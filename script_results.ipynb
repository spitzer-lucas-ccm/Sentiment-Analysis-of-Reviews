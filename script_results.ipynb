{
 "cells": [
  {
   "cell_type": "markdown",
   "metadata": {},
   "source": [
    "# Sentiment Analysis of Yelp Reviews\n",
    "\n",
    "### Author: Lucas Spitzer\n",
    "### Course: Data Science Programming (CMP 262)\n",
    "\n",
    "#### Purpose: I wrote a python script leveraging an API for local diner reviews and this notebook will be used to communicate / visualize my results."
   ]
  },
  {
   "cell_type": "markdown",
   "metadata": {},
   "source": [
    "## Pie Chart of the sentiment for reviews\n",
    "![Pie Chart of the sentiment for reviews](result_pngs/Sentiment.png)\n"
   ]
  },
  {
   "cell_type": "markdown",
   "metadata": {},
   "source": [
    "## Word Cloud of top 20 most common words\n",
    "![Word Cloud of top 20 most common words](result_pngs/WordCloud.png)"
   ]
  }
 ],
 "metadata": {
  "language_info": {
   "name": "python"
  }
 },
 "nbformat": 4,
 "nbformat_minor": 2
}
